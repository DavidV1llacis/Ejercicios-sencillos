{
 "cells": [
  {
   "cell_type": "code",
   "execution_count": 1,
   "id": "a2c07d00",
   "metadata": {},
   "outputs": [],
   "source": [
    "import numpy as np\n",
    "import math\n",
    "import pandas as pd\n",
    "import seaborn as sns\n",
    "np.random.seed(100)"
   ]
  },
  {
   "cell_type": "code",
   "execution_count": 2,
   "id": "b53aa115",
   "metadata": {},
   "outputs": [],
   "source": [
    "class neurona:\n",
    "    w=[]\n",
    "    y=0\n",
    "    delta=0\n",
    "    # Funcion de activacion: 1 = funcion sigmoide; 2 = funcion tangente hiperbolica\n",
    "    f_activ=1\n",
    "    # Tasa de aprendizaje\n",
    "    n = 0.8\n",
    "    \n",
    "    # Inicializa pesos aleatorios segun la cantidad de entradas que recibira el perceptron\n",
    "    # por lo general, n_entradas = entradas + bias\n",
    "    # size_hiddenlayers es la cantidad de capas ocultas de la red neuronal. En este caso, 1\n",
    "    def __init__(self, n_entradas, size_hiddenlayers=1):\n",
    "        self.w = np.random.rand(n_entradas)*np.sqrt(2/(size_hiddenlayers))\n",
    "\n",
    "    # Funcion de activacion/transferencia\n",
    "    def factivacion(self, x):\n",
    "        if(self.f_activ==1):\n",
    "            # funcion sigmoide\n",
    "            return 1/(1+math.exp(-x))\n",
    "        elif(self.f_activ==2):\n",
    "            # funcion tangente hiperbolica\n",
    "            return ( 2/(1+math.exp(-2*x)) ) -1\n",
    "        \n",
    "    def dfactivacion(self, x):\n",
    "        if(self.f_activ==1):\n",
    "            # funcion sigmoide\n",
    "            return x*(1-x)\n",
    "        elif(self.f_activ==2):\n",
    "            # funcion tangente hiperbolica\n",
    "            return 1-(x*x)\n",
    "\n",
    "    def predict(self, x):\n",
    "        suma=0\n",
    "        for i in range(len(x)):\n",
    "            suma += x[i]*self.w[i]\n",
    "            \n",
    "        self.y = self.factivacion(suma)\n",
    "    \n",
    "    def train(self, x):\n",
    "        for i in range( len(self.w) ):\n",
    "            self.w[i] += self.n*self.delta*self.dfactivacion(self.y)*x[i]\n",
    "    \n"
   ]
  },
  {
   "cell_type": "code",
   "execution_count": 15,
   "id": "3808d6ed",
   "metadata": {},
   "outputs": [],
   "source": [
    "class rn_multicapa:\n",
    "    # Lista que almacena las neuronas de la capa oculta\n",
    "    hiddenLayer = []\n",
    "    # Lista que almacena las neuronas de la capa de salida\n",
    "    outputLayer = []\n",
    "    # Valor del sesgo\n",
    "    vSesgo=1\n",
    "    \n",
    "    def __init__(self, size_inputLayer, size_hiddenLayer, size_outputLayer):\n",
    "        self.hiddenLayer.clear()\n",
    "        self.outputLayer.clear()\n",
    "        # Crea size_hiddenLayer neuronas en la lista de la capa oculta\n",
    "        # Inicializa cada neurona para tener size_inputLayer pesos, mas un peso para el bias\n",
    "        for p in range(size_hiddenLayer):\n",
    "            self.hiddenLayer.append(neurona(size_inputLayer+1)) \n",
    "            \n",
    "        # Crea size_outputLayer neuronas en la lista de la capa de salida\n",
    "        # Inicializa cada neurona para tener size_hiddenLayer pesos, mas un peso para el bias\n",
    "        for r in range(size_outputLayer):\n",
    "            self.outputLayer.append(neurona(size_hiddenLayer+1))\n",
    "            \n",
    "    def predict(self, x):\n",
    "        # Agrega temporalmente la entrada bias al conjunto de entrada\n",
    "        x.append(self.vSesgo) \n",
    "        # Almacena temporalmente las salidas de las neuronas de la capa oculta\n",
    "        temp=[] \n",
    "        # Calcula el output de cada neurona en la capa oculta y la almacena en la lista temp\n",
    "        for p in range( len(self.hiddenLayer) ):\n",
    "            self.hiddenLayer[p].predict(x)\n",
    "            temp.append(self.hiddenLayer[p].y)\n",
    "        \n",
    "        # Con la lista temp, calcula el output de las neuronas en la capa de salida\n",
    "        temp.append(self.vSesgo)\n",
    "        for p in self.outputLayer:\n",
    "            p.predict(temp)\n",
    "            \n",
    "        temp.clear()\n",
    "        x.pop() \n",
    "    \n",
    "    # Recibe un conjunto de entradas x y su conjunto de salidas correctas z\n",
    "    def train(self, x, z):\n",
    "        self.predict(x)\n",
    "        ## Calculo de deltas\n",
    "        # Definimos los deltas de las neuronas en la capa de salida\n",
    "        for p in range( len(self.outputLayer) ):\n",
    "            self.outputLayer[p].delta = z[p]-self.outputLayer[p].y\n",
    "            \n",
    "        # Definimos los deltas de los perceptrones en la capa oculta\n",
    "        for p in range( len(self.hiddenLayer) ):\n",
    "            suma=0\n",
    "            for r in range( len(self.outputLayer) ):\n",
    "                suma+= self.outputLayer[r].delta*self.outputLayer[r].w[p]\n",
    "            self.hiddenLayer[p].delta = suma\n",
    "        \n",
    "        ## Calculo de nuevos pesos\n",
    "        # agregamos temporalmente el sesgo al conjunto de entrada\n",
    "        x.append(self.vSesgo)\n",
    "        # Almacena temporalmente las salidas de las neuronas de la capa oculta\n",
    "        temp=[]\n",
    "        for p in self.hiddenLayer:\n",
    "            p.train(x)\n",
    "            temp.append(p.y)\n",
    "            \n",
    "        # agregamos el sesgo al conjunto de entrada de la capa de salida\n",
    "        temp.append(self.vSesgo)\n",
    "        for p in self.outputLayer:\n",
    "            p.train(temp)\n",
    "            \n",
    "        x.pop()\n",
    "        temp.clear()\n",
    "        \n",
    "    def printWeights(self):\n",
    "        print(\"Neuronas de la capa oculta:\")\n",
    "        for p in range( len(self.hiddenLayer) ):\n",
    "            print(f\"\\tNeurona {p+1}:\")\n",
    "            for w in range(len(self.hiddenLayer[p].w[:-1])):\n",
    "                print(f\"\\t\\tw{w+1} = {self.hiddenLayer[p].w[w]}\")\n",
    "            print(f\"\\t\\tb1 = {self.hiddenLayer[p].w[-1]}\")\n",
    "        \n",
    "        print(\"Neuronas de la capa de salida:\")\n",
    "        for p in range( len(self.outputLayer) ):\n",
    "            print(f\"\\tNeurona {p+1}:\")\n",
    "            for w in range(len(self.outputLayer[p].w[:-1])):\n",
    "                print(f\"\\t\\tw{w+1} = {self.outputLayer[p].w[w]}\")\n",
    "            print(f\"\\t\\tb2 = {self.hiddenLayer[p].w[-1]}\")\n",
    "            "
   ]
  },
  {
   "cell_type": "code",
   "execution_count": 16,
   "id": "ad561108",
   "metadata": {
    "scrolled": false
   },
   "outputs": [
    {
     "name": "stdout",
     "output_type": "stream",
     "text": [
      "Pesos iniciales\n",
      "Neuronas de la capa oculta:\n",
      "\tNeurona 1:\n",
      "\t\tw1 = 1.3294029199450965\n",
      "\t\tw2 = 1.1563308407319839\n",
      "\t\tw3 = 0.4753340783366442\n",
      "\t\tb1 = 0.24806784266443094\n",
      "\tNeurona 2:\n",
      "\t\tw1 = 0.5272641363505229\n",
      "\t\tw2 = 0.008044764247668406\n",
      "\t\tw3 = 0.35698477254207783\n",
      "\t\tb1 = 1.1252367105547207\n",
      "\tNeurona 3:\n",
      "\t\tw1 = 0.021573787230184226\n",
      "\t\tw2 = 0.8468924253895781\n",
      "\t\tw3 = 0.8539085681368386\n",
      "\t\tb1 = 0.1487012827618697\n",
      "\tNeurona 4:\n",
      "\t\tw1 = 0.5401495998980478\n",
      "\t\tw2 = 0.05158493393509951\n",
      "\t\tw3 = 1.2592321091136152\n",
      "\t\tb1 = 1.3872315796014505\n",
      "Neuronas de la capa de salida:\n",
      "\tNeurona 1:\n",
      "\t\tw1 = 0.08477077354208469\n",
      "\t\tw2 = 1.2594221529514114\n",
      "\t\tw3 = 0.8158619246049005\n",
      "\t\tw4 = 1.0500248461089188\n",
      "\t\tb2 = 0.24806784266443094\n"
     ]
    }
   ],
   "source": [
    "# Inicializa una red neuronal que recibe 3 inputs,\n",
    "# tiene 6 neuronas en la capa oculta y 1 de salida\n",
    "rn=rn_multicapa(3,4,1)\n",
    "print(\"Pesos iniciales\")\n",
    "rn.printWeights()"
   ]
  },
  {
   "cell_type": "code",
   "execution_count": 5,
   "id": "0d3e3ca5",
   "metadata": {},
   "outputs": [],
   "source": [
    "setX = [[1,1],\n",
    "        [1,0],\n",
    "        [0,1],\n",
    "        [0,0]]\n",
    "setZ = [[0],[1],[1],[0]]"
   ]
  },
  {
   "cell_type": "code",
   "execution_count": 6,
   "id": "1351fb53",
   "metadata": {},
   "outputs": [],
   "source": [
    "setX = [[1,1,1],\n",
    "        [1,1,0],\n",
    "        [1,0,1],\n",
    "        [1,0,0],\n",
    "        [0,1,1],\n",
    "        [0,1,0],\n",
    "        [0,0,1],\n",
    "        [0,0,0]]\n",
    "\n",
    "setZ = [[1],[0],[0],[1],[0],[1],[1],[0]]"
   ]
  },
  {
   "cell_type": "code",
   "execution_count": 7,
   "id": "985b81e5",
   "metadata": {},
   "outputs": [],
   "source": [
    "def toVF(x):\n",
    "    if(x>0.5):\n",
    "        return 1\n",
    "    else:\n",
    "        return 0"
   ]
  },
  {
   "cell_type": "code",
   "execution_count": 18,
   "id": "a620542b",
   "metadata": {},
   "outputs": [
    {
     "name": "stdout",
     "output_type": "stream",
     "text": [
      "Valores deseados:\n",
      "[1, 1, 1]|[1]\n",
      "[1, 1, 0]|[0]\n",
      "[1, 0, 1]|[0]\n",
      "[1, 0, 0]|[1]\n",
      "[0, 1, 1]|[0]\n",
      "[0, 1, 0]|[1]\n",
      "[0, 0, 1]|[1]\n",
      "[0, 0, 0]|[0]\n",
      "Valores predichos:\n",
      "x1 x2 | x1 XOR x2\n",
      "[1, 1, 1] | [1] => y = [0.9781548092590955]\n",
      "[1, 1, 0] | [1] => y = [0.9720998734515813]\n",
      "[1, 0, 1] | [1] => y = [0.9755305063937313]\n",
      "[1, 0, 0] | [1] => y = [0.966997938515106]\n",
      "[0, 1, 1] | [1] => y = [0.9754296707956484]\n",
      "[0, 1, 0] | [1] => y = [0.9663137264089006]\n",
      "[0, 0, 1] | [1] => y = [0.9721309938324505]\n",
      "[0, 0, 0] | [1] => y = [0.9596131002810295]\n"
     ]
    }
   ],
   "source": [
    "print(\"Valores deseados:\")\n",
    "for x, z in zip(setX,setZ):\n",
    "    print(f\"{x}|{z}\")\n",
    "\n",
    "print(\"Valores predichos:\")\n",
    "print(\"x1 x2 | x1 XOR x2\")\n",
    "for s in setX:\n",
    "    rn.predict(s)\n",
    "    y=[]\n",
    "    yVF=[]\n",
    "    for n in rn.outputLayer:\n",
    "        y.append(n.y)\n",
    "        yVF.append(toVF(n.y))\n",
    "    print(f\"{s} | {yVF} => y = {y}\")"
   ]
  },
  {
   "cell_type": "code",
   "execution_count": 9,
   "id": "b650045b",
   "metadata": {},
   "outputs": [],
   "source": [
    "outputs = {\"[1,1]\": [],\n",
    "          \"[1,0]\": [],\n",
    "          \"[0,1]\": [],\n",
    "          \"[0,0]\": []}\n",
    "out_df = pd.DataFrame(outputs)"
   ]
  },
  {
   "cell_type": "code",
   "execution_count": 10,
   "id": "10bb5e21",
   "metadata": {},
   "outputs": [],
   "source": [
    "outputs = {\"[1,1,1]\": [],\n",
    "          \"[1,1,0]\": [],\n",
    "          \"[1,0,1]\": [],\n",
    "          \"[1,0,0]\": [],\n",
    "          \"[0,1,1]\": [],\n",
    "          \"[0,1,0]\": [],\n",
    "          \"[0,0,1]\": [],\n",
    "          \"[0,0,0]\": []}\n",
    "out_df = pd.DataFrame(outputs)"
   ]
  },
  {
   "cell_type": "code",
   "execution_count": 11,
   "id": "fe60aa51",
   "metadata": {},
   "outputs": [],
   "source": [
    "# Bucle de épocas de entrenamiento.\n",
    "for j in range(2000):\n",
    "    yvalues = []\n",
    "    for i in range(len(setX)):\n",
    "        rn.predict(setX[i])\n",
    "        yvalues.append(rn.outputLayer[0].y)\n",
    "    out_df.loc[len(out_df.index)] = yvalues\n",
    "    \n",
    "    for i in range(len(setX)):\n",
    "        rn.train(setX[i], setZ[i])\n",
    "        rn.predict(setX[i])"
   ]
  },
  {
   "cell_type": "code",
   "execution_count": 12,
   "id": "729ba07a",
   "metadata": {},
   "outputs": [
    {
     "name": "stdout",
     "output_type": "stream",
     "text": [
      "Valores predichos:\n",
      "x1 x2 | x1 XOR x2\n",
      "1 1 1 | 1  => Y = 0.9986214325247506\n",
      "1 1 0 | 0  => Y = 0.051308583558650075\n",
      "1 0 1 | 0  => Y = 0.02093118832250986\n",
      "1 0 0 | 1  => Y = 0.9616359853676681\n",
      "0 1 1 | 0  => Y = 0.02081890233563055\n",
      "0 1 0 | 1  => Y = 0.9616201908068231\n",
      "0 0 1 | 1  => Y = 0.9993084288269509\n",
      "0 0 0 | 0  => Y = 0.0005464827657430639\n"
     ]
    }
   ],
   "source": [
    "print(\"Valores predichos:\")\n",
    "print(\"x1 x2 | x1 XOR x2\")\n",
    "for s in setX:\n",
    "    rn.predict(s)\n",
    "    print( s[0], s[1], s[2], \"|\", toVF(rn.outputLayer[0].y), f\" => Y = {rn.outputLayer[0].y}\" )"
   ]
  },
  {
   "cell_type": "code",
   "execution_count": 13,
   "id": "2cb948ec",
   "metadata": {},
   "outputs": [],
   "source": [
    "#print(\"Pesos finales\")\n",
    "#rn.printWeights()"
   ]
  },
  {
   "cell_type": "code",
   "execution_count": 14,
   "id": "2cb123f3",
   "metadata": {},
   "outputs": [
    {
     "data": {
      "text/plain": [
       "<matplotlib.lines.Line2D at 0x239d8d28210>"
      ]
     },
     "execution_count": 14,
     "metadata": {},
     "output_type": "execute_result"
    },
    {
     "data": {
      "image/png": "[encoded data removed]",
      "text/plain": [
       "<Figure size 640x480 with 1 Axes>"
      ]
     },
     "metadata": {},
     "output_type": "display_data"
    }
   ],
   "source": [
    "graph1 = sns.lineplot(out_df)\n",
    "graph1.axhline(y=.5, linewidth=0.5, color='r') "
   ]
  },
  {
   "cell_type": "code",
   "execution_count": null,
   "id": "895cac27",
   "metadata": {},
   "outputs": [],
   "source": []
  }
 ],
 "metadata": {
  "kernelspec": {
   "display_name": "Python 3 (ipykernel)",
   "language": "python",
   "name": "python3"
  },
  "language_info": {
   "codemirror_mode": {
    "name": "ipython",
    "version": 3
   },
   "file_extension": ".py",
   "mimetype": "text/x-python",
   "name": "python",
   "nbconvert_exporter": "python",
   "pygments_lexer": "ipython3",
   "version": "3.11.3"
  }
 },
 "nbformat": 4,
 "nbformat_minor": 5
}
