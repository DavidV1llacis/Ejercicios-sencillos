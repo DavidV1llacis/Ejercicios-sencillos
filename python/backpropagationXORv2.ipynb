{
 "cells": [
  {
   "cell_type": "code",
   "execution_count": 1,
   "id": "a2c07d00",
   "metadata": {},
   "outputs": [],
   "source": [
    "import numpy as np\n",
    "import math\n",
    "np.random.seed(100)"
   ]
  },
  {
   "cell_type": "code",
   "execution_count": 2,
   "id": "b53aa115",
   "metadata": {},
   "outputs": [],
   "source": [
    "class perceptron:\n",
    "    w=[]\n",
    "    y=0\n",
    "    delta=0\n",
    "    # Funcion de activacion: 1 = funcion sigmoide; 2 = funcion tangente hiperbolica\n",
    "    f_activ=1\n",
    "    # Tasa de aprendizaje\n",
    "    n = 1\n",
    "    \n",
    "    # Inicializa pesos aleatorios segun la cantidad de entradas que recibira el perceptron\n",
    "    # por lo general, n_entradas = entradas + bias\n",
    "    def __init__(self, n_entradas):\n",
    "        self.w=np.random.rand(n_entradas)\n",
    "\n",
    "    # Funcion de activacion/transferencia\n",
    "    def factivacion(self, x):\n",
    "        if(self.f_activ==1):\n",
    "            # funcion sigmoide\n",
    "            return 1/(1+math.exp(-x))\n",
    "        elif(self.f_activ==2):\n",
    "            # funcion tangente hiperbolica\n",
    "            return ( 2/(1+math.exp(-2*x)) ) -1\n",
    "        \n",
    "    def dfactivacion(self, x):\n",
    "        if(self.f_activ==1):\n",
    "            # funcion sigmoide\n",
    "            return x*(1-x)\n",
    "        elif(self.f_activ==2):\n",
    "            # funcion tangente hiperbolica\n",
    "            return 1-(x*x)\n",
    "\n",
    "    def predict(self, x):\n",
    "        suma=0\n",
    "        for i in range(len(x)):\n",
    "            suma += x[i]*self.w[i]\n",
    "            \n",
    "        self.y = self.factivacion(suma)\n",
    "    \n",
    "    def train(self, x):\n",
    "        for i in range( len(self.w) ):\n",
    "            self.w[i] += self.n*self.delta*self.dfactivacion(self.y)*x[i]\n",
    "    \n"
   ]
  },
  {
   "cell_type": "code",
   "execution_count": 3,
   "id": "3808d6ed",
   "metadata": {},
   "outputs": [],
   "source": [
    "class rn_multicapa:\n",
    "    inputLayer = []\n",
    "    outputLayer = []\n",
    "    vSesgo=1\n",
    "    \n",
    "    def __init__(self, size_input, size_inputLayer, size_outputLayer):\n",
    "        # Crea size_inputLayer perceptrones en la lista de la capa de entrada\n",
    "        # Inicializa cada perceptron para tener size_input pesos, mas un peso para el bias\n",
    "        for p in range(size_inputLayer):\n",
    "            self.inputLayer.append(perceptron(size_input+1)) \n",
    "            \n",
    "        # Crea size_outputLayer perceptrones en la lista de la capa de salida\n",
    "        # Inicializa cada perceptron para tener size_inputLayer pesos, mas un peso para el bias\n",
    "        for r in range(size_outputLayer):\n",
    "            self.outputLayer.append(perceptron(size_inputLayer+1))\n",
    "            \n",
    "    def predict(self, x):\n",
    "        # Agrega temporalmente la entrada bias al conjunto de entrada\n",
    "        x.append(self.vSesgo) \n",
    "        # Almacena temporalmente las salidas de los perceptrones de entrada\n",
    "        temp=[] \n",
    "        # Calcula el output de cada perceptron en la capa de entrada y la almacena en la lista temp\n",
    "        for p in range( len(self.inputLayer) ):\n",
    "            self.inputLayer[p].predict(x)\n",
    "            temp.append(self.inputLayer[p].y)\n",
    "        \n",
    "        # Con la lista temp, calcula el output de los perceptrones en la capa de salida\n",
    "        temp.append(self.vSesgo)\n",
    "        for p in self.outputLayer:\n",
    "            p.predict(temp)\n",
    "            \n",
    "        temp.clear()\n",
    "        x.pop() \n",
    "    \n",
    "    # Recibe un conjunto de entradas x y su conjunto de salidas correctas z\n",
    "    def train(self, x, z):\n",
    "        self.predict(x)\n",
    "        ## Calculo de deltas\n",
    "        # Definimos los deltas de los perceptrones en la capa de salida\n",
    "        for p in range( len(self.outputLayer) ):\n",
    "            self.outputLayer[p].delta = z[p]-self.outputLayer[p].y\n",
    "            \n",
    "        # Definimos los deltas de los perceptrones en la capa de entrada\n",
    "        for p in range( len(self.inputLayer) ):\n",
    "            suma=0\n",
    "            for r in range( len(self.outputLayer) ):\n",
    "                suma+= self.outputLayer[r].delta*self.outputLayer[r].w[p]\n",
    "            self.inputLayer[p].delta = suma\n",
    "        \n",
    "        ## Calculo de nuevos pesos\n",
    "        # Almacena temporalmente las salidas de los perceptrones de entrada\n",
    "        x.append(self.vSesgo)\n",
    "        temp=[]\n",
    "        for p in range( len(self.inputLayer) ):\n",
    "            self.inputLayer[p].train(x)\n",
    "            temp.append(self.inputLayer[p].y)\n",
    "        \n",
    "        temp.append(self.vSesgo)\n",
    "        for p in range( len(self.outputLayer) ):\n",
    "            self.outputLayer[p].train(temp)\n",
    "            \n",
    "        x.pop()\n",
    "        temp.clear()\n",
    "            "
   ]
  },
  {
   "cell_type": "code",
   "execution_count": 4,
   "id": "ad561108",
   "metadata": {},
   "outputs": [],
   "source": [
    "# Inicializa una red neuronal que recibe 3 inputs,\n",
    "# tiene 4 perceptrones de entrada y 1 de salida\n",
    "rn=rn_multicapa(3,6,1)"
   ]
  },
  {
   "cell_type": "code",
   "execution_count": 5,
   "id": "e62b5b7c",
   "metadata": {},
   "outputs": [],
   "source": [
    "setX = [[1,1],\n",
    "        [1,0],\n",
    "        [0,1],\n",
    "        [0,0]]\n",
    "\n",
    "setZ = [0,1,1,0]"
   ]
  },
  {
   "cell_type": "code",
   "execution_count": 6,
   "id": "1351fb53",
   "metadata": {},
   "outputs": [],
   "source": [
    "setX = [[1,1,1],\n",
    "        [1,1,0],\n",
    "        [1,0,1],\n",
    "        [1,0,0],\n",
    "        [0,1,1],\n",
    "        [0,1,0],\n",
    "        [0,0,1],\n",
    "        [0,0,0]]\n",
    "\n",
    "setZ = [[1],[0],[0],[1],[0],[1],[1],[0]]"
   ]
  },
  {
   "cell_type": "code",
   "execution_count": 7,
   "id": "985b81e5",
   "metadata": {},
   "outputs": [],
   "source": [
    "def toVF(x):\n",
    "    if(x>0.5):\n",
    "        return 1\n",
    "    else:\n",
    "        return 0"
   ]
  },
  {
   "cell_type": "code",
   "execution_count": 8,
   "id": "a620542b",
   "metadata": {},
   "outputs": [
    {
     "name": "stdout",
     "output_type": "stream",
     "text": [
      "Valores deseados:\n",
      "1 1 1 | [1]\n",
      "1 1 0 | [0]\n",
      "1 0 1 | [0]\n",
      "1 0 0 | [1]\n",
      "0 1 1 | [0]\n",
      "0 1 0 | [1]\n",
      "0 0 1 | [1]\n",
      "0 0 0 | [0]\n",
      "Valores predichos:\n",
      "x1 x2 | x1 XOR x2\n",
      "1 1 1 | 1  => Y = 0.8806146100225263\n",
      "1 1 0 | 1  => Y = 0.8640200976753712\n",
      "1 0 1 | 1  => Y = 0.8771545208750116\n",
      "1 0 0 | 1  => Y = 0.8581280887075359\n",
      "0 1 1 | 1  => Y = 0.8689603809591092\n",
      "0 1 0 | 1  => Y = 0.8441680821435775\n",
      "0 0 1 | 1  => Y = 0.8636203946345988\n",
      "0 0 0 | 1  => Y = 0.8359440936778172\n"
     ]
    }
   ],
   "source": [
    "print(\"Valores deseados:\")\n",
    "for i, s in enumerate(setX):\n",
    "    print( s[0], s[1], s[2], \"|\", setZ[i] )\n",
    "\n",
    "print(\"Valores predichos:\")\n",
    "print(\"x1 x2 | x1 XOR x2\")\n",
    "for s in setX:\n",
    "    rn.predict(s)\n",
    "    print( s[0], s[1], s[2], \"|\", toVF(rn.outputLayer[0].y), f\" => Y = {rn.outputLayer[0].y}\" )"
   ]
  },
  {
   "cell_type": "code",
   "execution_count": 9,
   "id": "fe60aa51",
   "metadata": {},
   "outputs": [],
   "source": [
    "# Bucle de épocas de entrenamiento.\n",
    "for j in range(1000):\n",
    "    for i in range(len(setX)):\n",
    "        rn.train(setX[i], setZ[i])\n",
    "        rn.predict(setX[i])"
   ]
  },
  {
   "cell_type": "code",
   "execution_count": 10,
   "id": "729ba07a",
   "metadata": {},
   "outputs": [
    {
     "name": "stdout",
     "output_type": "stream",
     "text": [
      "Valores predichos:\n",
      "x1 x2 | x1 XOR x2\n",
      "1 1 1 | 1  => Y = 0.8717434807039636\n",
      "1 1 0 | 0  => Y = 0.4470993480222398\n",
      "1 0 1 | 0  => Y = 0.06186485922357961\n",
      "1 0 0 | 1  => Y = 0.8262226178922458\n",
      "0 1 1 | 0  => Y = 0.06151561964985546\n",
      "0 1 0 | 1  => Y = 0.8120724839354327\n",
      "0 0 1 | 1  => Y = 0.9554996352035499\n",
      "0 0 0 | 0  => Y = 0.0640705379745476\n"
     ]
    }
   ],
   "source": [
    "print(\"Valores predichos:\")\n",
    "print(\"x1 x2 | x1 XOR x2\")\n",
    "for s in setX:\n",
    "    rn.predict(s)\n",
    "    print( s[0], s[1], s[2], \"|\", toVF(rn.outputLayer[0].y), f\" => Y = {rn.outputLayer[0].y}\" )"
   ]
  },
  {
   "cell_type": "code",
   "execution_count": null,
   "id": "2cb948ec",
   "metadata": {},
   "outputs": [],
   "source": []
  }
 ],
 "metadata": {
  "kernelspec": {
   "display_name": "Python 3 (ipykernel)",
   "language": "python",
   "name": "python3"
  },
  "language_info": {
   "codemirror_mode": {
    "name": "ipython",
    "version": 3
   },
   "file_extension": ".py",
   "mimetype": "text/x-python",
   "name": "python",
   "nbconvert_exporter": "python",
   "pygments_lexer": "ipython3",
   "version": "3.11.3"
  }
 },
 "nbformat": 4,
 "nbformat_minor": 5
}
