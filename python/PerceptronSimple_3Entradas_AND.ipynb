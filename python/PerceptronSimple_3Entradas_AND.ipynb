{
 "cells": [
  {
   "cell_type": "markdown",
   "id": "efbdb381",
   "metadata": {},
   "source": [
    "## Perceptron AND con 3 entradas\n",
    "Alumno: David Villacis Alvear"
   ]
  },
  {
   "cell_type": "code",
   "execution_count": 1,
   "id": "6ecf6221",
   "metadata": {},
   "outputs": [],
   "source": [
    "import random\n",
    "random.seed(100)\n",
    "class perceptron3and:\n",
    "    def __init__(self):\n",
    "        self.w1=random.random()\n",
    "        self.w2=random.random()\n",
    "        self.w3=random.random()\n",
    "        self.s =random.random()\n",
    "        self.n =0.5\n",
    "    \n",
    "    def __fsigno(self, x):\n",
    "      if x>0:\n",
    "        return 1\n",
    "      else:\n",
    "        return -1\n",
    "    \n",
    "    # X es un array con las 3 entradas, y z es es valor deseado\n",
    "    def train(self, X, z):\n",
    "        y = self.__fsigno(X[0]*self.w1 + X[1]*self.w2 + X[2]*self.w3 + 1*self.s)\n",
    "        self.w1 = self.w1 + self.n*(z-y)*X[0]\n",
    "        self.w2 = self.w2 + self.n*(z-y)*X[1]\n",
    "        self.w3 = self.w2 + self.n*(z-y)*X[2]\n",
    "        self.s = self.s + self.n*(z-y)*1\n",
    "    \n",
    "    def predict(self, X):\n",
    "        return self.fsigno(X[0]*self.w1 + X[1]*self.w2 + X[2]*self.w3 + 1*self.s)\n",
    "    \n",
    "    \n",
    "    \n",
    "        "
   ]
  },
  {
   "cell_type": "code",
   "execution_count": 2,
   "id": "ff215583",
   "metadata": {},
   "outputs": [],
   "source": [
    "p=perceptron3and()"
   ]
  },
  {
   "cell_type": "code",
   "execution_count": 3,
   "id": "257e4de5",
   "metadata": {},
   "outputs": [
    {
     "name": "stdout",
     "output_type": "stream",
     "text": [
      "w1 =  0.1456692551041303\n",
      "w2 =  0.45492700451402135\n",
      "w3 =  0.7707838056590222\n",
      "sesgo =  0.705513226934028\n"
     ]
    }
   ],
   "source": [
    "print(\"w1 = \", p.w1)\n",
    "print(\"w2 = \", p.w2)\n",
    "print(\"w3 = \", p.w3)\n",
    "print(\"sesgo = \", p.s)"
   ]
  },
  {
   "cell_type": "code",
   "execution_count": 4,
   "id": "7f56a84f",
   "metadata": {},
   "outputs": [],
   "source": [
    "Entradas = [[ 1,  1,  1],\n",
    "            [ 1,  1, -1],\n",
    "            [ 1, -1,  1],\n",
    "            [ 1, -1, -1],\n",
    "            [-1,  1,  1],\n",
    "            [-1,  1, -1],\n",
    "            [-1, -1,  1],\n",
    "            [-1, -1, -1]]\n",
    "Z = [1,-1,-1,-1,-1,-1,-1,-1]"
   ]
  },
  {
   "cell_type": "code",
   "execution_count": 5,
   "id": "31dfc107",
   "metadata": {},
   "outputs": [
    {
     "name": "stdout",
     "output_type": "stream",
     "text": [
      "V V V | V\n",
      "V V F | V\n",
      "V F V | V\n",
      "V F F | F\n",
      "F V V | V\n",
      "F V F | V\n",
      "F F V | V\n",
      "F F F | F\n"
     ]
    }
   ],
   "source": [
    "def toVF(x):\n",
    "  if x == 1:\n",
    "    return \"V\"\n",
    "  else:\n",
    "    return \"F\"\n",
    "\n",
    "for entrada in Entradas:\n",
    "    print(toVF(entrada[0]), toVF(entrada[1]), toVF(entrada[2]),\"|\", toVF(p.predict(entrada)))"
   ]
  },
  {
   "cell_type": "markdown",
   "id": "f0544da6",
   "metadata": {},
   "source": [
    "### Epoca 1"
   ]
  },
  {
   "cell_type": "code",
   "execution_count": 6,
   "id": "995e6766",
   "metadata": {},
   "outputs": [],
   "source": [
    "## Bucle de entrenamiento\n",
    "for idx, entrada in enumerate(Entradas):\n",
    "    p.train(entrada, Z[idx])"
   ]
  },
  {
   "cell_type": "code",
   "execution_count": 7,
   "id": "9cb17606",
   "metadata": {},
   "outputs": [
    {
     "name": "stdout",
     "output_type": "stream",
     "text": [
      "w1 =  1.1456692551041303\n",
      "w2 =  -0.5450729954859788\n",
      "w3 =  0.45492700451402124\n",
      "sesgo =  -2.294486773065972\n"
     ]
    }
   ],
   "source": [
    "print(\"w1 = \", p.w1)\n",
    "print(\"w2 = \", p.w2)\n",
    "print(\"w3 = \", p.w3)\n",
    "print(\"sesgo = \", p.s)"
   ]
  },
  {
   "cell_type": "code",
   "execution_count": 8,
   "id": "b97a3d69",
   "metadata": {},
   "outputs": [
    {
     "name": "stdout",
     "output_type": "stream",
     "text": [
      "V V V | F\n",
      "V V F | F\n",
      "V F V | F\n",
      "V F F | F\n",
      "F V V | F\n",
      "F V F | F\n",
      "F F V | F\n",
      "F F F | F\n"
     ]
    }
   ],
   "source": [
    "for entrada in Entradas:\n",
    "    print(toVF(entrada[0]), toVF(entrada[1]), toVF(entrada[2]),\"|\", toVF(p.predict(entrada)))"
   ]
  },
  {
   "cell_type": "markdown",
   "id": "275ad382",
   "metadata": {},
   "source": [
    "### Epoca 2"
   ]
  },
  {
   "cell_type": "code",
   "execution_count": 9,
   "id": "eab630c6",
   "metadata": {},
   "outputs": [],
   "source": [
    "## Bucle de entrenamiento\n",
    "for idx, entrada in enumerate(Entradas):\n",
    "    p.train(entrada, Z[idx])"
   ]
  },
  {
   "cell_type": "code",
   "execution_count": 10,
   "id": "532ecad1",
   "metadata": {},
   "outputs": [
    {
     "name": "stdout",
     "output_type": "stream",
     "text": [
      "w1 =  1.1456692551041305\n",
      "w2 =  1.4549270045140212\n",
      "w3 =  1.4549270045140212\n",
      "sesgo =  -2.294486773065972\n"
     ]
    }
   ],
   "source": [
    "print(\"w1 = \", p.w1)\n",
    "print(\"w2 = \", p.w2)\n",
    "print(\"w3 = \", p.w3)\n",
    "print(\"sesgo = \", p.s)"
   ]
  },
  {
   "cell_type": "code",
   "execution_count": 11,
   "id": "aa45dd8c",
   "metadata": {
    "scrolled": true
   },
   "outputs": [
    {
     "name": "stdout",
     "output_type": "stream",
     "text": [
      "V V V | V\n",
      "V V F | F\n",
      "V F V | F\n",
      "V F F | F\n",
      "F V V | F\n",
      "F V F | F\n",
      "F F V | F\n",
      "F F F | F\n"
     ]
    }
   ],
   "source": [
    "for entrada in Entradas:\n",
    "    print(toVF(entrada[0]), toVF(entrada[1]), toVF(entrada[2]),\"|\", toVF(p.predict(entrada)))"
   ]
  },
  {
   "cell_type": "markdown",
   "id": "6f84af12",
   "metadata": {},
   "source": [
    "### Epoca 3"
   ]
  },
  {
   "cell_type": "code",
   "execution_count": 12,
   "id": "d6f27593",
   "metadata": {},
   "outputs": [],
   "source": [
    "## Bucle de entrenamiento\n",
    "for idx, entrada in enumerate(Entradas):\n",
    "    p.train(entrada, Z[idx])"
   ]
  },
  {
   "cell_type": "code",
   "execution_count": 13,
   "id": "f44a41ea",
   "metadata": {},
   "outputs": [
    {
     "name": "stdout",
     "output_type": "stream",
     "text": [
      "w1 =  1.1456692551041305\n",
      "w2 =  1.4549270045140212\n",
      "w3 =  1.4549270045140212\n",
      "sesgo =  -2.294486773065972\n"
     ]
    }
   ],
   "source": [
    "print(\"w1 = \", p.w1)\n",
    "print(\"w2 = \", p.w2)\n",
    "print(\"w3 = \", p.w3)\n",
    "print(\"sesgo = \", p.s)"
   ]
  },
  {
   "cell_type": "code",
   "execution_count": 14,
   "id": "c915e2e8",
   "metadata": {},
   "outputs": [
    {
     "name": "stdout",
     "output_type": "stream",
     "text": [
      "V V V | V\n",
      "V V F | F\n",
      "V F V | F\n",
      "V F F | F\n",
      "F V V | F\n",
      "F V F | F\n",
      "F F V | F\n",
      "F F F | F\n"
     ]
    }
   ],
   "source": [
    "for entrada in Entradas:\n",
    "    print(toVF(entrada[0]), toVF(entrada[1]), toVF(entrada[2]),\"|\", toVF(p.predict(entrada)))"
   ]
  },
  {
   "cell_type": "markdown",
   "id": "17c04223",
   "metadata": {},
   "source": [
    "Despues del ultimo entrenamiento, los pesos no volvieron a cambiar y los resultados son correctos"
   ]
  }
 ],
 "metadata": {
  "kernelspec": {
   "display_name": "Python 3 (ipykernel)",
   "language": "python",
   "name": "python3"
  },
  "language_info": {
   "codemirror_mode": {
    "name": "ipython",
    "version": 3
   },
   "file_extension": ".py",
   "mimetype": "text/x-python",
   "name": "python",
   "nbconvert_exporter": "python",
   "pygments_lexer": "ipython3",
   "version": "3.11.3"
  }
 },
 "nbformat": 4,
 "nbformat_minor": 5
}
