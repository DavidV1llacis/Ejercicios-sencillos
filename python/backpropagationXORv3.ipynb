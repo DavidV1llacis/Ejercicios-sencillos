{
 "cells": [
  {
   "cell_type": "code",
   "execution_count": 1,
   "id": "605f1c84",
   "metadata": {},
   "outputs": [],
   "source": [
    "import numpy as np\n",
    "import math\n",
    "import pandas as pd\n",
    "import seaborn as sns\n",
    "np.random.seed(100)"
   ]
  },
  {
   "cell_type": "code",
   "execution_count": 2,
   "id": "b9ada8d1",
   "metadata": {},
   "outputs": [],
   "source": [
    "class neurona:\n",
    "    # Lista con los pesos para las entradas del perceptron\n",
    "    w=[]\n",
    "    # Salida del perceptron\n",
    "    y=0\n",
    "    delta=0\n",
    "    # Funcion de activacion: 1 = funcion sigmoide; 2 = funcion tangente hiperbolica\n",
    "    f_activ=1\n",
    "    # Tasa de aprendizaje\n",
    "    n = 0.8\n",
    "    \n",
    "    # Inicializa pesos aleatorios segun la cantidad de entradas que recibira el perceptron\n",
    "    # por lo general, n_entradas = entradas + bias\n",
    "    # size_hiddenlayers es la cantidad de capas ocultas de la red neuronal.\n",
    "    def __init__(self, n_entradas, size_hiddenLayers=1):\n",
    "        self.w=np.random.rand(n_entradas)*np.sqrt(2/size_hiddenLayers)\n",
    "\n",
    "    # Funcion de activacion/transferencia\n",
    "    def factivacion(self, x):\n",
    "        if(self.f_activ==1):\n",
    "            # funcion sigmoide\n",
    "            return 1/(1+math.exp(-x))\n",
    "        elif(self.f_activ==2):\n",
    "            # funcion tangente hiperbolica\n",
    "            return ( 2/(1+math.exp(-2*x)) ) -1\n",
    "        \n",
    "    def dfactivacion(self, x):\n",
    "        if(self.f_activ==1):\n",
    "            # funcion sigmoide\n",
    "            return x*(1-x)\n",
    "        elif(self.f_activ==2):\n",
    "            # funcion tangente hiperbolica\n",
    "            return 1-(x*x)\n",
    "\n",
    "    def predict(self, x):\n",
    "        suma=0\n",
    "        for i in range(len(x)):\n",
    "            suma += x[i]*self.w[i]\n",
    "            \n",
    "        self.y = self.factivacion(suma)\n",
    "    \n",
    "    def train(self, x):\n",
    "        for i in range( len(self.w) ):\n",
    "            self.w[i] += self.n*self.delta*self.dfactivacion(self.y)*x[i]\n",
    "    \n"
   ]
  },
  {
   "cell_type": "code",
   "execution_count": 3,
   "id": "3f63f4a6",
   "metadata": {},
   "outputs": [],
   "source": [
    "class rn_multicapa:\n",
    "    # Lista que almacena las capas ocultas del perceptron\n",
    "    hiddenLayers = []\n",
    "    # Lista que almacena los perceptrones de la capa de salida\n",
    "    # Las salidas de la RN se encuentran en outputLayer[n].y\n",
    "    outputLayer = []\n",
    "    # Valor del sesgo\n",
    "    vSesgo=1\n",
    "    \n",
    "    # inicializa una red neuronal\n",
    "    # Layers es una lista que especifica los tamaños de las capas que tendra la red neuronal\n",
    "    # Debe tener al menos 3 elementos.\n",
    "    # ejemplo: [3,3,1] [3 entradas, 3 capas ocultas, 1 capa de salida]\n",
    "    def __init__(self,Layers):\n",
    "        self.hiddenLayers.clear()\n",
    "        self.outputLayer.clear()        \n",
    "        if(len(Layers)<3):\n",
    "            print(\"Error: Muy pocas dimensiones\")\n",
    "            return\n",
    "        # Agregamos la entrada del bias1\n",
    "        Layers[0]+=1  \n",
    "        # cantidad de capas ocultas de la rn\n",
    "        n_capasOcultas = len(Layers)-2\n",
    "        print(n_capasOcultas)\n",
    "        # Inicializar las capas ocultas, segun lo especificado en Layers\n",
    "        for idx,layer in enumerate(Layers[1:-1]):\n",
    "            # almacena una capa temporalmente antes de agregarla a hiddenLayers\n",
    "            tmp = []\n",
    "            # crea (layer) neuronas y las enlista\n",
    "            for n in range(layer):\n",
    "                tmp.append( neurona(Layers[idx],n_capasOcultas))\n",
    "            self.hiddenLayers.append(tmp)\n",
    "         # Inicializar la capa de salida, segun lo especificado en Layers\n",
    "        for n in range(Layers[-1]):  \n",
    "            self.outputLayer.append( neurona(Layers[-2]+1,n_capasOcultas)) # agregar 1 entrada para el bias2        \n",
    "        \n",
    "    def predict(self, x):\n",
    "        # Agrega temporalmente la entrada bias al conjunto de entrada\n",
    "        x.append(self.vSesgo) \n",
    "        # Almacena temporalmente las salidas de las neuronas de una capa para pasarlas a la siguiente\n",
    "        data = []\n",
    "        # data[0] = capa de entradas\n",
    "        # data[1:] = salidas de cada capa oculta\n",
    "        data.append(x.copy())\n",
    "        # Recorre las capas ocultas para obtener sus salidas\n",
    "        for inputSet,layer in zip( data, self.hiddenLayers ):\n",
    "            # almacena temporalmente las salidas las neuronas en la capa\n",
    "            tmp = []\n",
    "            # Recorre las neuronas de la capa\n",
    "            for p in layer:\n",
    "                p.predict(inputSet)\n",
    "                tmp.append(p.y)\n",
    "            # agreda la lista con las salidas de esta capa oculta a la lista data\n",
    "            data.append(tmp)\n",
    "        # Con el ultimo elemento de la lista data como entrada\n",
    "        # calcula el output de las neuronas en la capa de salida\n",
    "        # Agrega una entrada bias a la ultima capa oculta\n",
    "        data[-1].append(self.vSesgo)\n",
    "        for p in self.outputLayer:\n",
    "            p.predict(data[-1])\n",
    "            \n",
    "        x.pop() \n",
    "        \n",
    "    # Recibe un conjunto de entradas x y su conjunto de salidas correctas z\n",
    "    def train(self, x, z):\n",
    "        self.predict(x)        \n",
    "        ## Calculo de deltas\n",
    "        # Definimos los deltas de las neuronas en la capa de salida\n",
    "        for p in range( len(self.outputLayer) ):\n",
    "            self.outputLayer[p].delta = z[p]-self.outputLayer[p].y\n",
    "\n",
    "        # Definimos los deltas de las neuronas en las capas ocultas\n",
    "        # Retropropagacion: Comenzamos a calcular los deltas de cada nodo comenzando desde la ultima capa oculta\n",
    "        allLayers = []\n",
    "        for l in self.hiddenLayers:\n",
    "            allLayers.append(l)\n",
    "        allLayers.append(self.outputLayer)\n",
    "        \n",
    "        # Recorre las capas ocultas\n",
    "        for layer in reversed( range( len(allLayers)-1 ) ):\n",
    "            # Recorre las neuronas de cada capa\n",
    "            for p in range( len(allLayers[layer]) ):\n",
    "                suma = 0\n",
    "                for np in allLayers[layer+1]:\n",
    "                    suma += np.delta*np.w[p]\n",
    "                allLayers[layer][p].delta = suma\n",
    "        \n",
    "        ## Calculo de nuevos pesos\n",
    "        x.append(self.vSesgo)\n",
    "        temp=[[]]\n",
    "        # entrenar primera capa\n",
    "        for p in self.hiddenLayers[0]:\n",
    "            p.train(x)\n",
    "            temp[0].append(p.y)\n",
    "        x.pop()\n",
    "        # entrenar capas intermedias\n",
    "        for idx,layer in enumerate(self.hiddenLayers[1:]):\n",
    "            temp.append([])\n",
    "            for p in layer:\n",
    "                p.train(temp[idx])\n",
    "                temp[idx+1].append(p.y)\n",
    "        # entrenar capa de salida\n",
    "        temp[-1].append(self.vSesgo)\n",
    "        for p in self.outputLayer:\n",
    "            p.train(temp[-1])\n",
    "        \n",
    "        temp.clear()\n",
    "        allLayers.clear()\n",
    "        self.predict(x)\n",
    "        \n",
    "\n",
    "    def printWeights(self):\n",
    "        print(\"--- Neuronas de las capas ocultas ---\")\n",
    "        print(f\"<< Capa oculta 1 >>\")\n",
    "        for idx,p in enumerate(self.hiddenLayers[0]):\n",
    "            print(f\"\\tNeurona {idx+1}:\")\n",
    "            for i,w in enumerate(p.w[:-1]):\n",
    "                print(f\"\\t\\tw{i+1} = {w}\")\n",
    "            print(f\"\\t\\tb1 = {p.w[-1]}\")\n",
    "        for idx,layer in enumerate(self.hiddenLayers[1:]):\n",
    "            print(f\"<< Capa oculta {idx+2} >>\")\n",
    "            for p in range( len(layer) ):\n",
    "                print(f\"\\tNeurona {p+1}:\")\n",
    "                for w in range(len(layer[p].w)):\n",
    "                    print(f\"\\t\\tw{w+1} = {layer[p].w[w]}\")\n",
    "        \n",
    "        print(\"--- Neuronas de la capa de salida ---\")\n",
    "        for p in range( len(self.outputLayer) ):\n",
    "            print(f\"\\tNeurona {p+1}:\")\n",
    "            for w in range(len(self.outputLayer[p].w[:-1])):\n",
    "                print(f\"\\t\\tw{w+1} = {self.outputLayer[p].w[w]}\")\n",
    "            print(f\"\\t\\tb2 = {self.outputLayer[p].w[-1]}\")\n",
    "            "
   ]
  },
  {
   "cell_type": "code",
   "execution_count": 4,
   "id": "860be803",
   "metadata": {
    "scrolled": false
   },
   "outputs": [
    {
     "name": "stdout",
     "output_type": "stream",
     "text": [
      "2\n",
      "Pesos iniciales\n"
     ]
    }
   ],
   "source": [
    "# Inicializa una red neuronal que recibe 3 inputs,\n",
    "# tiene 6 perceptrones de entrada y 1 de salida\n",
    "rn=rn_multicapa([3,8,4,2])\n",
    "\n",
    "print(\"Pesos iniciales\")\n",
    "#rn.printWeights()"
   ]
  },
  {
   "cell_type": "code",
   "execution_count": 5,
   "id": "dd38c85f",
   "metadata": {},
   "outputs": [],
   "source": [
    "setX = [[1,1,1],\n",
    "        [1,1,0],\n",
    "        [1,0,1],\n",
    "        [1,0,0],\n",
    "        [0,1,1],\n",
    "        [0,1,0],\n",
    "        [0,0,1],\n",
    "        [0,0,0]]\n",
    "\n",
    "# Set para un perceptron de salida\n",
    "setZ = [[1],[0],[0],[1],[0],[1],[1],[0]]\n",
    "# Set para dos perceptrones de salida\n",
    "setZ = [[1,0],[0,1],[0,1],[1,0],[0,1],[1,0],[1,0],[0,1]]"
   ]
  },
  {
   "cell_type": "code",
   "execution_count": 6,
   "id": "292fc2c5",
   "metadata": {},
   "outputs": [],
   "source": [
    "def toVF(x):\n",
    "    if(x>0.5):\n",
    "        return 1\n",
    "    else:\n",
    "        return 0"
   ]
  },
  {
   "cell_type": "code",
   "execution_count": 7,
   "id": "8997abc2",
   "metadata": {},
   "outputs": [
    {
     "name": "stdout",
     "output_type": "stream",
     "text": [
      "Valores deseados:\n",
      "[1, 1, 1]|[1, 0]\n",
      "[1, 1, 0]|[0, 1]\n",
      "[1, 0, 1]|[0, 1]\n",
      "[1, 0, 0]|[1, 0]\n",
      "[0, 1, 1]|[0, 1]\n",
      "[0, 1, 0]|[1, 0]\n",
      "[0, 0, 1]|[1, 0]\n",
      "[0, 0, 0]|[0, 1]\n",
      "Valores predichos:\n",
      "x1 x2 | x1 XOR x2\n",
      "[1, 1, 1] | [1, 1] => y = [0.9573196797686326, 0.8614571163957205]\n",
      "[1, 1, 0] | [1, 1] => y = [0.9559767309675071, 0.8602236499156862]\n",
      "[1, 0, 1] | [1, 1] => y = [0.9564672755016367, 0.8606464507412308]\n",
      "[1, 0, 0] | [1, 1] => y = [0.9544214052807192, 0.8587713083367345]\n",
      "[0, 1, 1] | [1, 1] => y = [0.9563957906222236, 0.8606414555665689]\n",
      "[0, 1, 0] | [1, 1] => y = [0.9542421091532954, 0.8587393270270406]\n",
      "[0, 0, 1] | [1, 1] => y = [0.9551608223772549, 0.8594941758262372]\n",
      "[0, 0, 0] | [1, 1] => y = [0.9519404294923909, 0.8566762823722059]\n"
     ]
    }
   ],
   "source": [
    "print(\"Valores deseados:\")\n",
    "for x, z in zip(setX,setZ):\n",
    "    print(f\"{x}|{z}\")\n",
    "\n",
    "print(\"Valores predichos:\")\n",
    "print(\"x1 x2 | x1 XOR x2\")\n",
    "for s in setX:\n",
    "    rn.predict(s)\n",
    "    y=[]\n",
    "    yVF=[]\n",
    "    for n in rn.outputLayer:\n",
    "        y.append(n.y)\n",
    "        yVF.append(toVF(n.y))\n",
    "    #print(  toVF(rn.outputLayer[0].y), f\" => Y = {rn.outputLayer[0].y}\" )\n",
    "    print(f\"{s} | {yVF} => y = {y}\")"
   ]
  },
  {
   "cell_type": "code",
   "execution_count": 8,
   "id": "f6c6eab1",
   "metadata": {},
   "outputs": [],
   "source": [
    "outputs_1 = {\"[1,1,1]\": [],\n",
    "          \"[1,1,0]\": [],\n",
    "          \"[1,0,1]\": [],\n",
    "          \"[1,0,0]\": [],\n",
    "          \"[0,1,1]\": [],\n",
    "          \"[0,1,0]\": [],\n",
    "          \"[0,0,1]\": [],\n",
    "          \"[0,0,0]\": []}\n",
    "outputs_2 = {\"[1,1,1]\": [],\n",
    "          \"[1,1,0]\": [],\n",
    "          \"[1,0,1]\": [],\n",
    "          \"[1,0,0]\": [],\n",
    "          \"[0,1,1]\": [],\n",
    "          \"[0,1,0]\": [],\n",
    "          \"[0,0,1]\": [],\n",
    "          \"[0,0,0]\": []}\n",
    "out_df_1 = pd.DataFrame(outputs_1)\n",
    "out_df_2 = pd.DataFrame(outputs_2)"
   ]
  },
  {
   "cell_type": "code",
   "execution_count": 9,
   "id": "3ebc0278",
   "metadata": {},
   "outputs": [],
   "source": [
    "# Bucle de épocas de entrenamiento.\n",
    "for j in range(2000):\n",
    "    yvalues1 = []\n",
    "    #yvalues2 = []\n",
    "    for i in range(len(setX)):\n",
    "        rn.predict(setX[i])\n",
    "        yvalues1.append(rn.outputLayer[0].y)\n",
    "        #yvalues2.append(rn.outputLayer[1].y)\n",
    "    out_df_1.loc[len(out_df_1.index)] = yvalues1\n",
    "    #out_df_2.loc[len(out_df_2.index)] = yvalues2\n",
    "    \n",
    "    for i in range(len(setX)):\n",
    "        rn.train(setX[i], setZ[i])\n",
    "        rn.predict(setX[i])"
   ]
  },
  {
   "cell_type": "code",
   "execution_count": 10,
   "id": "2330a882",
   "metadata": {},
   "outputs": [
    {
     "name": "stdout",
     "output_type": "stream",
     "text": [
      "Valores predichos:\n",
      "x1 x2 | x1 XOR x2\n",
      "[1, 1, 1] | [1, 0] => y = [0.9904710163598824, 0.009682644876972298]\n",
      "[1, 1, 0] | [0, 1] => y = [0.013602555336990074, 0.9861817060286859]\n",
      "[1, 0, 1] | [0, 1] => y = [0.012495408395767148, 0.9872700275689591]\n",
      "[1, 0, 0] | [1, 0] => y = [0.9950715663886726, 0.005092240019196769]\n",
      "[0, 1, 1] | [0, 1] => y = [0.009122966526593612, 0.9906254191895203]\n",
      "[0, 1, 0] | [1, 0] => y = [0.9940138069455682, 0.0061576627253482254]\n",
      "[0, 0, 1] | [1, 0] => y = [0.995172455353064, 0.004997377023715198]\n",
      "[0, 0, 0] | [0, 1] => y = [0.009123328481379325, 0.9906250700539935]\n"
     ]
    }
   ],
   "source": [
    "print(\"Valores predichos:\")\n",
    "print(\"x1 x2 | x1 XOR x2\")\n",
    "for s in setX:\n",
    "    rn.predict(s)\n",
    "    y=[]\n",
    "    yVF=[]\n",
    "    for n in rn.outputLayer:\n",
    "        y.append(n.y)\n",
    "        yVF.append(toVF(n.y))\n",
    "    print(f\"{s} | {yVF} => y = {y}\")"
   ]
  },
  {
   "cell_type": "code",
   "execution_count": 11,
   "id": "f2f8aec0",
   "metadata": {},
   "outputs": [
    {
     "data": {
      "text/plain": [
       "<matplotlib.lines.Line2D at 0x1f337418e50>"
      ]
     },
     "execution_count": 11,
     "metadata": {},
     "output_type": "execute_result"
    },
    {
     "data": {
      "image/png": "[encoded data removed]",
      "text/plain": [
       "<Figure size 640x480 with 1 Axes>"
      ]
     },
     "metadata": {},
     "output_type": "display_data"
    }
   ],
   "source": [
    "graph1 = sns.lineplot(out_df_1)\n",
    "graph1.axhline(y=.5, linewidth=0.5, color='r') "
   ]
  },
  {
   "cell_type": "code",
   "execution_count": 12,
   "id": "de44ce2e",
   "metadata": {},
   "outputs": [
    {
     "data": {
      "text/plain": [
       "<matplotlib.lines.Line2D at 0x1f3374c9b90>"
      ]
     },
     "execution_count": 12,
     "metadata": {},
     "output_type": "execute_result"
    },
    {
     "data": {
      "image/png": "[encoded data removed]",
      "text/plain": [
       "<Figure size 640x480 with 1 Axes>"
      ]
     },
     "metadata": {},
     "output_type": "display_data"
    }
   ],
   "source": [
    "graph2 = sns.lineplot(out_df_2)\n",
    "graph2.axhline(y=.5, linewidth=0.5, color='r') "
   ]
  }
 ],
 "metadata": {
  "kernelspec": {
   "display_name": "Python 3 (ipykernel)",
   "language": "python",
   "name": "python3"
  },
  "language_info": {
   "codemirror_mode": {
    "name": "ipython",
    "version": 3
   },
   "file_extension": ".py",
   "mimetype": "text/x-python",
   "name": "python",
   "nbconvert_exporter": "python",
   "pygments_lexer": "ipython3",
   "version": "3.11.3"
  }
 },
 "nbformat": 4,
 "nbformat_minor": 5
}
