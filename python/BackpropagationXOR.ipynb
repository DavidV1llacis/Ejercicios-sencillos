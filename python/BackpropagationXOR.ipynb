{
 "cells": [
  {
   "cell_type": "code",
   "execution_count": 8,
   "metadata": {
    "id": "5GS-O3KwiAmO"
   },
   "outputs": [],
   "source": [
    "import numpy as np\n",
    "import math\n",
    "np.random.seed(100)\n"
   ]
  },
  {
   "cell_type": "code",
   "execution_count": 58,
   "metadata": {},
   "outputs": [
    {
     "data": {
      "text/plain": [
       "0.21181682000000002"
      ]
     },
     "execution_count": 58,
     "metadata": {},
     "output_type": "execute_result"
    }
   ],
   "source": [
    "0.2+ (0.1*0.4740*0.2493)"
   ]
  },
  {
   "cell_type": "code",
   "execution_count": 10,
   "metadata": {
    "id": "sNiKZ2ZMlCB1"
   },
   "outputs": [],
   "source": [
    "class RN_multicapa:\n",
    "\n",
    "  # Valores de los pesos (w) en f1, f2 y f3\n",
    "    wf1=[] # [wx1-f1, wx2-f1, wb1-f1]\n",
    "    wf2=[] # [wx1-f2, wx2-f2, wb1-f2]\n",
    "    wf3=[] # [wf1-f3, wf2-f3, wb2-f3]\n",
    "\n",
    "  # deltas\n",
    "    d1=0\n",
    "    d2=0\n",
    "    d3=0\n",
    "\n",
    "  # salidas\n",
    "    y1=0\n",
    "    y2=0\n",
    "    Y=0\n",
    "\n",
    "  # tasa de aprendizaje\n",
    "    n = 0.5\n",
    "\n",
    "  # Valor del sesgo\n",
    "    valsesgo = 1\n",
    "\n",
    "    def __init__(self, vs, n):\n",
    "        self.valsesgo = vs\n",
    "        self.n = n\n",
    "\n",
    "    # capa de entrada\n",
    "        self.wf1 = np.random.rand(3)\n",
    "        self.wf2 = np.random.rand(3)\n",
    "\n",
    "    # capa de salida\n",
    "        self.wf3 = np.random.rand(3)\n",
    "\n",
    "    def __str__(self):\n",
    "        return (f\"wx11 = {self.wf1[0]}\\n\"\n",
    "        f\"wx21 = {self.wf1[1]}\\n\"\n",
    "        f\"wb1 = {self.wf1[2]}\\n\"\n",
    "        f\"wx12 = {self.wf2[0]}\\n\"\n",
    "        f\"wx22 = {self.wf2[1]}\\n\"\n",
    "        f\"wb12 = {self.wf2[2]}\\n\"\n",
    "        f\"w13 = {self.wf3[0]}\\n\"\n",
    "        f\"w23 = {self.wf3[1]}\\n\"\n",
    "        f\"wb23 = {self.wf3[2]}\\n\")\n",
    "\n",
    "    def fsigmoide(self, x):\n",
    "        return 1/(1+math.exp(-x))\n",
    "\n",
    "    def dfsig(self, x):\n",
    "        return x*(1-x)\n",
    "\n",
    "    def predict(self, x):\n",
    "        self.y1 = self.fsigmoide( x[0]*self.wf1[0] + x[1]*self.wf1[1] + self.valsesgo*self.wf1[2] )\n",
    "        self.y2 = self.fsigmoide( x[0]*self.wf2[0] + x[1]*self.wf2[1] + self.valsesgo*self.wf2[2] )\n",
    "        self.Y =  self.fsigmoide( self.y1*self.wf3[0] + self.y2*self.wf3[1] + self.valsesgo*self.wf3[2] )\n",
    "\n",
    "\n",
    "    def train(self, x, z):\n",
    "        self.predict(x)\n",
    "\n",
    "        # calcular deltas\n",
    "        self.d3 = z - self.Y\n",
    "        self.d2 = self.d3 * self.wf3[1]\n",
    "        self.d1 = self.d3 * self.wf3[0]\n",
    "\n",
    "        # modificar pesos en F1\n",
    "        self.wf1[0] = self.wf1[0] +  self.n*self.d1*self.dfsig(self.y1)*x[0]\n",
    "        self.wf1[1] = self.wf1[1] +  self.n*self.d1*self.dfsig(self.y1)*x[1]\n",
    "        self.wf1[2] = self.wf1[2] +  self.n*self.d1*self.dfsig(self.y1)*self.valsesgo\n",
    "\n",
    "        # modificar pesos en F2\n",
    "        self.wf2[0] = self.wf2[0] +  self.n*self.d2*self.dfsig(self.y2)*x[0]\n",
    "        self.wf2[1] = self.wf2[1] +  self.n*self.d2*self.dfsig(self.y2)*x[1]\n",
    "        self.wf2[2] = self.wf2[2] +  self.n*self.d2*self.dfsig(self.y2)*self.valsesgo\n",
    "\n",
    "         # modificar pesos en F3\n",
    "        self.wf3[0] = self.wf3[0] +  self.n*self.d3*self.dfsig(self.Y)*self.y1\n",
    "        self.wf3[1] = self.wf3[1] +  self.n*self.d3*self.dfsig(self.Y)*self.y2\n",
    "        self.wf3[2] = self.wf3[2] +  self.n*self.d3*self.dfsig(self.Y)*self.valsesgo\n",
    "\n",
    "\n"
   ]
  },
  {
   "cell_type": "code",
   "execution_count": 11,
   "metadata": {
    "id": "5NaWPZJ3pNnW"
   },
   "outputs": [],
   "source": [
    "RN = RN_multicapa(1,0.1)"
   ]
  },
  {
   "cell_type": "code",
   "execution_count": null,
   "metadata": {},
   "outputs": [],
   "source": [
    "RN."
   ]
  },
  {
   "cell_type": "code",
   "execution_count": 4,
   "metadata": {
    "id": "vR45r46AecAx"
   },
   "outputs": [],
   "source": [
    "setX = [[1,1],\n",
    "        [1,0],\n",
    "        [0,1],\n",
    "        [0,0]]\n",
    "\n",
    "setZ = [0,1,1,0]"
   ]
  },
  {
   "cell_type": "code",
   "execution_count": 5,
   "metadata": {
    "id": "AoYr0KpcEVI0"
   },
   "outputs": [],
   "source": [
    "def toVF(x):\n",
    "    if(x>0.5):\n",
    "        return 1\n",
    "    else:\n",
    "        return 0"
   ]
  },
  {
   "cell_type": "code",
   "execution_count": 6,
   "metadata": {
    "colab": {
     "base_uri": "https://localhost:8080/"
    },
    "id": "W5qFCsEPpQrM",
    "outputId": "9be7d25a-e760-49da-a436-09c436ffea06"
   },
   "outputs": [
    {
     "name": "stdout",
     "output_type": "stream",
     "text": [
      "Valores deseados:\n",
      "1 1 | 0\n",
      "1 0 | 1\n",
      "0 1 | 1\n",
      "0 0 | 0\n",
      "Valores predichos:\n",
      "x1 x2 | x1 XOR x2\n",
      "1 1 | 1  => Y = 0.7784516147983049, y1 = 0.7766573144036171, y2 = 0.7253315465270431\n",
      "1 0 | 1  => Y = 0.7722468324128298, y1 = 0.7247052208590294, y2 = 0.7243904301774616\n",
      "0 1 | 1  => Y = 0.735806939489785, y1 = 0.6688275407908405, y2 = 0.531530100158946\n",
      "0 0 | 1  => Y = 0.7271503272419635, y1 = 0.6045637626810257, y2 = 0.5303549046770347\n"
     ]
    }
   ],
   "source": [
    "print(\"Valores deseados:\")\n",
    "for i, s in enumerate(setX):\n",
    "    print( s[0], s[1], \"|\", setZ[i] )\n",
    "\n",
    "print(\"Valores predichos:\")\n",
    "print(\"x1 x2 | x1 XOR x2\")\n",
    "for s in setX:\n",
    "    RN.predict(s)\n",
    "    print( s[0], s[1], \"|\", toVF(RN.Y), f\" => Y = {RN.Y}, y1 = {RN.y1}, y2 = {RN.y2}\" )\n"
   ]
  },
  {
   "cell_type": "code",
   "execution_count": 10,
   "metadata": {
    "id": "EgK40oMErz6F"
   },
   "outputs": [],
   "source": [
    "# Bucle de épocas de entrenamiento.\n",
    "for j in range(400):\n",
    "    for i,s in enumerate(setX):\n",
    "        RN.train(s,setZ[i])\n",
    "        RN.predict(s)"
   ]
  },
  {
   "cell_type": "code",
   "execution_count": 11,
   "metadata": {
    "colab": {
     "base_uri": "https://localhost:8080/"
    },
    "id": "sGW_ULYndzXe",
    "outputId": "268a63b9-be91-4608-c148-5edccfda6344"
   },
   "outputs": [
    {
     "name": "stdout",
     "output_type": "stream",
     "text": [
      "Valores predichos:\n",
      "x1 x2 | x1 XOR x2\n",
      "1 1 | 0  => Y = 0.18078515285239402, y1 = 0.05188303090568725, y2 = 0.021242078307813966\n",
      "1 0 | 1  => Y = 0.8592411195802508, y1 = 0.00045489795689309943, y2 = 0.9430707231283567\n",
      "0 1 | 1  => Y = 0.8086157977358491, y1 = 0.9023267541444423, y2 = 3.6101523685247685e-05\n",
      "0 0 | 0  => Y = 0.19459408167283693, y1 = 0.07134915651299142, y2 = 0.02681774592470745\n"
     ]
    }
   ],
   "source": [
    "print(\"Valores predichos:\")\n",
    "print(\"x1 x2 | x1 XOR x2\")\n",
    "for s in setX:\n",
    "    RN.predict(s)\n",
    "    print( s[0], s[1], \"|\", toVF(RN.Y), f\" => Y = {RN.Y}, y1 = {RN.y1}, y2 = {RN.y2}\" )\n"
   ]
  },
  {
   "cell_type": "code",
   "execution_count": 12,
   "metadata": {
    "colab": {
     "base_uri": "https://localhost:8080/"
    },
    "id": "rz9YHw0BHBW-",
    "outputId": "0fca3a33-bed4-45f8-ff1b-0e2378e4887f"
   },
   "outputs": [
    {
     "name": "stdout",
     "output_type": "stream",
     "text": [
      "wx11 = -5.128835128380123\n",
      "wx21 = 4.789496332720077\n",
      "wb1 = -2.5661473048958645\n",
      "wx12 = 6.39883908339199\n",
      "wx22 = -6.6376318376167855\n",
      "wb12 = -3.5915075463764166\n",
      "w13 = 3.565987630599917\n",
      "w23 = 3.800522342535727\n",
      "wb23 = -1.7767822923320657\n",
      "\n"
     ]
    }
   ],
   "source": [
    "print(RN)"
   ]
  },
  {
   "cell_type": "code",
   "execution_count": 9,
   "metadata": {
    "id": "DLDX2jSbjbFR"
   },
   "outputs": [],
   "source": []
  }
 ],
 "metadata": {
  "colab": {
   "provenance": []
  },
  "kernelspec": {
   "display_name": "Python 3 (ipykernel)",
   "language": "python",
   "name": "python3"
  },
  "language_info": {
   "codemirror_mode": {
    "name": "ipython",
    "version": 3
   },
   "file_extension": ".py",
   "mimetype": "text/x-python",
   "name": "python",
   "nbconvert_exporter": "python",
   "pygments_lexer": "ipython3",
   "version": "3.11.3"
  }
 },
 "nbformat": 4,
 "nbformat_minor": 1
}
