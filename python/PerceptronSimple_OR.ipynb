{
 "cells": [
  {
   "cell_type": "markdown",
   "id": "5bc0f68c",
   "metadata": {},
   "source": [
    "## Perceptron OR\n",
    "Alumno: David Villacis Alvear"
   ]
  },
  {
   "cell_type": "code",
   "execution_count": null,
   "id": "65d55ef1",
   "metadata": {},
   "outputs": [],
   "source": []
  },
  {
   "cell_type": "code",
   "execution_count": 1,
   "id": "515ed6e5",
   "metadata": {},
   "outputs": [],
   "source": [
    "import random\n",
    "random.seed(70)\n",
    "\n",
    "class perceptronOR:\n",
    "    def __init__(self):\n",
    "        self.w1=random.random()\n",
    "        self.w2=random.random()\n",
    "        self.s =random.random() # Sesgo\n",
    "        self.sx= -1 # Entrada del sesgo\n",
    "        self.n =0.7 # Tasa de aprendizaje\n",
    "    \n",
    "    def __fpaso(self, x):\n",
    "      if x>0:\n",
    "        return 1\n",
    "      else:\n",
    "        return 0\n",
    "    \n",
    "    # X es un array con las 2 entradas, y z es es valor deseado\n",
    "    def train(self, X, z):\n",
    "        # y = fpaso ( x1*w1 + x2*w2 + -1*sesgo)\n",
    "        y = self.__fpaso(X[0]*self.w1 + X[1]*self.w2 + self.sx*self.s)\n",
    "        \n",
    "        # W = W + n*(valor deseado - valor predicho)*entrada\n",
    "        self.w1 = self.w1 + self.n*(z-y)*X[0]\n",
    "        self.w2 = self.w2 + self.n*(z-y)*X[1]\n",
    "        self.s = self.s + self.n*(z-y)*self.sx\n",
    "    \n",
    "    def predict(self, X):\n",
    "        return self.__fpaso(X[0]*self.w1 + X[1]*self.w2 + self.sx*self.s)"
   ]
  },
  {
   "cell_type": "code",
   "execution_count": 2,
   "id": "08ad79f1",
   "metadata": {},
   "outputs": [],
   "source": [
    "p=perceptronOR()"
   ]
  },
  {
   "cell_type": "code",
   "execution_count": 3,
   "id": "dbe3d5ce",
   "metadata": {},
   "outputs": [
    {
     "name": "stdout",
     "output_type": "stream",
     "text": [
      "w1 =  0.909769237923872\n",
      "w2 =  0.2940790407586785\n",
      "sesgo =  0.4594338793312195\n"
     ]
    }
   ],
   "source": [
    "# Valores iniciales de los pesos (w)\n",
    "print(\"w1 = \", p.w1)\n",
    "print(\"w2 = \", p.w2)\n",
    "print(\"sesgo = \", p.s)"
   ]
  },
  {
   "cell_type": "code",
   "execution_count": 4,
   "id": "bfa89210",
   "metadata": {},
   "outputs": [],
   "source": [
    "# Conjunto de entrenamiento\n",
    "Entradas = [[1, 1],\n",
    "            [1, 0],\n",
    "            [0, 1],\n",
    "            [0, 0]]\n",
    "# Salidas esperadas\n",
    "Z = [1,1,1,0]\n"
   ]
  },
  {
   "cell_type": "code",
   "execution_count": 5,
   "id": "04c8ca57",
   "metadata": {},
   "outputs": [],
   "source": [
    "def toVF(x):\n",
    "  if x == 1:\n",
    "    return \"V\"\n",
    "  else:\n",
    "    return \"F\""
   ]
  },
  {
   "cell_type": "code",
   "execution_count": 6,
   "id": "93718c31",
   "metadata": {},
   "outputs": [
    {
     "name": "stdout",
     "output_type": "stream",
     "text": [
      "Tabla de verdad OR: \n",
      "\n",
      "\t 1 1 | 1 \t V V | V\n",
      "\t 1 0 | 1 \t V F | V\n",
      "\t 0 1 | 1 \t F V | V\n",
      "\t 0 0 | 0 \t F F | F\n"
     ]
    }
   ],
   "source": [
    "print(\"Tabla de verdad OR: \\n\")\n",
    "for idx, e in enumerate(Entradas):\n",
    "    print(\"\\t\", e[0], e[1], \"|\", Z[idx], \"\\t\", toVF(e[0]), toVF(e[1]), \"|\", toVF(Z[idx]))"
   ]
  },
  {
   "cell_type": "code",
   "execution_count": 7,
   "id": "0d914d19",
   "metadata": {},
   "outputs": [
    {
     "name": "stdout",
     "output_type": "stream",
     "text": [
      "Predicción inicial: \n",
      "\n",
      "\t 1 1 | 1 \t V V | V\n",
      "\t 1 0 | 1 \t V F | V\n",
      "\t 0 1 | 0 \t F V | F\n",
      "\t 0 0 | 0 \t F F | F\n"
     ]
    }
   ],
   "source": [
    "print(\"Predicción inicial: \\n\")\n",
    "for e in Entradas:\n",
    "    print(\"\\t\", e[0], e[1],\"|\", p.predict(e), \"\\t\", toVF(e[0]), toVF(e[1]),\"|\", toVF(p.predict(e)))"
   ]
  },
  {
   "cell_type": "markdown",
   "id": "6eb0a41d",
   "metadata": {},
   "source": [
    "### Época 1"
   ]
  },
  {
   "cell_type": "code",
   "execution_count": 8,
   "id": "19506e43",
   "metadata": {},
   "outputs": [
    {
     "name": "stdout",
     "output_type": "stream",
     "text": [
      "w1 =  0.909769237923872\n",
      "w2 =  0.2940790407586785\n",
      "sesgo =  0.4594338793312195\n"
     ]
    }
   ],
   "source": [
    "p.train([1,1], 1)\n",
    "# Valor de los pesos despues de entrenar el perceptron una vez\n",
    "print(\"w1 = \", p.w1)\n",
    "print(\"w2 = \", p.w2)\n",
    "print(\"sesgo = \", p.s)"
   ]
  },
  {
   "cell_type": "code",
   "execution_count": 9,
   "id": "fcf4c5d9",
   "metadata": {},
   "outputs": [
    {
     "name": "stdout",
     "output_type": "stream",
     "text": [
      "w1 =  0.909769237923872\n",
      "w2 =  0.2940790407586785\n",
      "sesgo =  0.4594338793312195\n"
     ]
    }
   ],
   "source": [
    "p.train([1,0], 1)\n",
    "print(\"w1 = \", p.w1)\n",
    "print(\"w2 = \", p.w2)\n",
    "print(\"sesgo = \", p.s)"
   ]
  },
  {
   "cell_type": "code",
   "execution_count": 10,
   "id": "d61d365a",
   "metadata": {},
   "outputs": [
    {
     "name": "stdout",
     "output_type": "stream",
     "text": [
      "w1 =  0.909769237923872\n",
      "w2 =  0.9940790407586785\n",
      "sesgo =  -0.24056612066878047\n"
     ]
    }
   ],
   "source": [
    "p.train([0,1], 1)\n",
    "print(\"w1 = \", p.w1)\n",
    "print(\"w2 = \", p.w2)\n",
    "print(\"sesgo = \", p.s)"
   ]
  },
  {
   "cell_type": "code",
   "execution_count": 11,
   "id": "e38f4371",
   "metadata": {},
   "outputs": [
    {
     "name": "stdout",
     "output_type": "stream",
     "text": [
      "w1 =  0.909769237923872\n",
      "w2 =  0.9940790407586785\n",
      "sesgo =  0.4594338793312195\n"
     ]
    }
   ],
   "source": [
    "p.train([0,0], 0)\n",
    "print(\"w1 = \", p.w1)\n",
    "print(\"w2 = \", p.w2)\n",
    "print(\"sesgo = \", p.s)"
   ]
  },
  {
   "cell_type": "code",
   "execution_count": 12,
   "id": "388ecc61",
   "metadata": {},
   "outputs": [
    {
     "name": "stdout",
     "output_type": "stream",
     "text": [
      "Predicción: \n",
      "\n",
      "\t 1 1 | 1 \t V V | V\n",
      "\t 1 0 | 1 \t V F | V\n",
      "\t 0 1 | 1 \t F V | V\n",
      "\t 0 0 | 0 \t F F | F\n"
     ]
    }
   ],
   "source": [
    "print(\"Predicción: \\n\")\n",
    "for e in Entradas:\n",
    "    print(\"\\t\", e[0], e[1],\"|\", p.predict(e), \"\\t\", toVF(e[0]), toVF(e[1]),\"|\", toVF(p.predict(e)))"
   ]
  },
  {
   "cell_type": "markdown",
   "id": "53b27f30",
   "metadata": {},
   "source": [
    "### Época 2"
   ]
  },
  {
   "cell_type": "code",
   "execution_count": 13,
   "id": "a75d4195",
   "metadata": {},
   "outputs": [
    {
     "name": "stdout",
     "output_type": "stream",
     "text": [
      "w1 =  0.909769237923872\n",
      "w2 =  0.9940790407586785\n",
      "sesgo =  0.4594338793312195\n"
     ]
    }
   ],
   "source": [
    "p.train([1,1], 1)\n",
    "print(\"w1 = \", p.w1)\n",
    "print(\"w2 = \", p.w2)\n",
    "print(\"sesgo = \", p.s)"
   ]
  },
  {
   "cell_type": "code",
   "execution_count": 14,
   "id": "b1dce465",
   "metadata": {},
   "outputs": [
    {
     "name": "stdout",
     "output_type": "stream",
     "text": [
      "w1 =  0.909769237923872\n",
      "w2 =  0.9940790407586785\n",
      "sesgo =  0.4594338793312195\n"
     ]
    }
   ],
   "source": [
    "p.train([1,0], 1)\n",
    "print(\"w1 = \", p.w1)\n",
    "print(\"w2 = \", p.w2)\n",
    "print(\"sesgo = \", p.s)"
   ]
  },
  {
   "cell_type": "code",
   "execution_count": 15,
   "id": "c03cf8de",
   "metadata": {},
   "outputs": [
    {
     "name": "stdout",
     "output_type": "stream",
     "text": [
      "w1 =  0.909769237923872\n",
      "w2 =  0.9940790407586785\n",
      "sesgo =  0.4594338793312195\n"
     ]
    }
   ],
   "source": [
    "p.train([0,1], 1)\n",
    "print(\"w1 = \", p.w1)\n",
    "print(\"w2 = \", p.w2)\n",
    "print(\"sesgo = \", p.s)"
   ]
  },
  {
   "cell_type": "code",
   "execution_count": 16,
   "id": "af0d663e",
   "metadata": {},
   "outputs": [
    {
     "name": "stdout",
     "output_type": "stream",
     "text": [
      "w1 =  0.909769237923872\n",
      "w2 =  0.9940790407586785\n",
      "sesgo =  0.4594338793312195\n"
     ]
    }
   ],
   "source": [
    "p.train([0,0], 0)\n",
    "print(\"w1 = \", p.w1)\n",
    "print(\"w2 = \", p.w2)\n",
    "print(\"sesgo = \", p.s)"
   ]
  },
  {
   "cell_type": "code",
   "execution_count": 17,
   "id": "8bc94e6c",
   "metadata": {},
   "outputs": [
    {
     "name": "stdout",
     "output_type": "stream",
     "text": [
      "Predicción: \n",
      "\n",
      "\t 1 1 | 1 \t V V | V\n",
      "\t 1 0 | 1 \t V F | V\n",
      "\t 0 1 | 1 \t F V | V\n",
      "\t 0 0 | 0 \t F F | F\n"
     ]
    }
   ],
   "source": [
    "print(\"Predicción: \\n\")\n",
    "for e in Entradas:\n",
    "    print(\"\\t\", e[0], e[1],\"|\", p.predict(e), \"\\t\", toVF(e[0]), toVF(e[1]),\"|\", toVF(p.predict(e)))"
   ]
  },
  {
   "cell_type": "markdown",
   "id": "382725f5",
   "metadata": {},
   "source": [
    "Ya no hay más cambios. No es necesario realizar mas entrenamiento porque ya han sido obtenidos satisfactoriamente los resultados."
   ]
  },
  {
   "cell_type": "code",
   "execution_count": null,
   "id": "202fdc25",
   "metadata": {},
   "outputs": [],
   "source": []
  }
 ],
 "metadata": {
  "kernelspec": {
   "display_name": "Python 3 (ipykernel)",
   "language": "python",
   "name": "python3"
  },
  "language_info": {
   "codemirror_mode": {
    "name": "ipython",
    "version": 3
   },
   "file_extension": ".py",
   "mimetype": "text/x-python",
   "name": "python",
   "nbconvert_exporter": "python",
   "pygments_lexer": "ipython3",
   "version": "3.11.3"
  }
 },
 "nbformat": 4,
 "nbformat_minor": 5
}
